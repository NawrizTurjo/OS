{
 "cells": [
  {
   "cell_type": "markdown",
   "id": "4b8c80ad",
   "metadata": {},
   "source": [
    "# Regex Explanation for Function Counting\n",
    "\n",
    "This code snippet counts the number of function definitions in source code files based on the programming language. Let me explain each regex pattern in detail:\n",
    "\n",
    "## 1. C/C++ Function Counter\n",
    "\n"
   ]
  },
  {
   "cell_type": "code",
   "execution_count": null,
   "id": "a69ed1a9",
   "metadata": {
    "vscode": {
     "languageId": "bash"
    }
   },
   "outputs": [],
   "source": [
    "grep -E '^[[:space:]]*[A-Za-z_][A-Za-z0-9_]+[[:space:]]+[A-Za-z_][A-Za-z0-9_]+[[:space:]]*\\([^)]*\\)[[:space:]]*\\{' \"$source_file\" | wc -l"
   ]
  },
  {
   "cell_type": "markdown",
   "id": "c7083507",
   "metadata": {},
   "source": [
    "\n",
    "\n",
    "Breaking this down:\n",
    "- `^` - Start of a line\n",
    "- `[[:space:]]*` - Zero or more whitespace characters (spaces or tabs)\n",
    "- `[A-Za-z_][A-Za-z0-9_]+` - Return type (starts with letter/underscore, followed by letters/numbers/underscores)\n",
    "- `[[:space:]]+` - One or more whitespace characters (separating return type and function name)\n",
    "- `[A-Za-z_][A-Za-z0-9_]+` - Function name (follows same pattern as return type)\n",
    "- `[[:space:]]*` - Zero or more whitespace characters\n",
    "- `\\(` - Opening parenthesis (escaped with backslash)\n",
    "- `[^)]*` - Any characters that are not closing parenthesis (function parameters)\n",
    "- `\\)` - Closing parenthesis\n",
    "- `[[:space:]]*` - Zero or more whitespace characters\n",
    "- `\\{` - Opening curly brace\n",
    "\n",
    "This matches C/C++ function definitions like: `int main(int argc, char* argv[]) {`\n",
    "\n",
    "## 2. Java Function Counter\n",
    "\n"
   ]
  },
  {
   "cell_type": "code",
   "execution_count": null,
   "id": "878d0708",
   "metadata": {
    "vscode": {
     "languageId": "bash"
    }
   },
   "outputs": [],
   "source": [
    "grep -E '^[[:space:]]*([A-Za-z_$][A-Za-z0-9_$<>]*[[:space:]]+)+[A-Za-z_$][A-Za-z0-9_$]*[[:space:]]*\\([^)]*\\)[[:space:]]*\\{' \"$source_file\" | wc -l"
   ]
  },
  {
   "cell_type": "markdown",
   "id": "54b2df1e",
   "metadata": {},
   "source": [
    "\n",
    "\n",
    "This is more complex:\n",
    "- `^[[:space:]]*` - Start of line plus whitespace\n",
    "- `([A-Za-z_$][A-Za-z0-9_$<>]*[[:space:]]+)+` - This captures modifiers and return types:\n",
    "  - Starts with letter/underscore/dollar sign\n",
    "  - Followed by letters/numbers/underscores/dollar signs/angle brackets (for generics)\n",
    "  - Followed by whitespace\n",
    "  - The `()+` means this pattern repeats one or more times (for multiple modifiers)\n",
    "- `[A-Za-z_$][A-Za-z0-9_$]*` - Method name\n",
    "- `[[:space:]]*\\([^)]*\\)[[:space:]]*\\{` - Same as C/C++: whitespace, parameters in parentheses, whitespace, opening brace\n",
    "\n",
    "This matches Java methods like: `public static void main(String[] args) {`\n",
    "\n",
    "## 3. Python Function Counter\n",
    "\n"
   ]
  },
  {
   "cell_type": "code",
   "execution_count": null,
   "id": "592db7d0",
   "metadata": {
    "vscode": {
     "languageId": "bash"
    }
   },
   "outputs": [],
   "source": [
    "grep -c '^[[:space:]]*def ' \"$source_file\""
   ]
  },
  {
   "cell_type": "markdown",
   "id": "a0e87f5c",
   "metadata": {},
   "source": [
    "\n",
    "\n",
    "Much simpler:\n",
    "- `^` - Start of line\n",
    "- `[[:space:]]*` - Zero or more whitespace characters\n",
    "- `def ` - The literal string \"def \" with a space\n",
    "\n",
    "This matches Python function definitions like: `def calculate_average(numbers):`\n",
    "\n",
    "The `-c` flag with grep directly counts matching lines instead of piping to `wc -l` like the others.\n",
    "\n",
    "All these patterns are executed via `grep` to find lines matching function definitions, and the count becomes the value of the `fc` variable."
   ]
  },
  {
   "cell_type": "markdown",
   "id": "e8047f26",
   "metadata": {},
   "source": [
    "# Bash Parameter Expansion for Filename Parsing\n",
    "\n",
    "This code extracts the student name and ID from the filename using Bash parameter expansion techniques. Let me explain each operation:\n",
    "\n",
    "## 1. Get Base Filename\n",
    "\n"
   ]
  },
  {
   "cell_type": "code",
   "execution_count": null,
   "id": "d8940a74",
   "metadata": {
    "vscode": {
     "languageId": "bash"
    }
   },
   "outputs": [],
   "source": [
    "filename=$(basename \"$zipfile\")"
   ]
  },
  {
   "cell_type": "markdown",
   "id": "c458217e",
   "metadata": {},
   "source": [
    "\n",
    "\n",
    "The `basename` command extracts just the filename without the directory path. For example, if `$zipfile` is `/path/to/John_Doe_1234567_submission_2105221.zip`, `filename` becomes `John_Doe_1234567_submission_2105221.zip`.\n",
    "\n",
    "## 2. Extract Student Name\n",
    "\n"
   ]
  },
  {
   "cell_type": "code",
   "execution_count": null,
   "id": "1aa877de",
   "metadata": {
    "vscode": {
     "languageId": "bash"
    }
   },
   "outputs": [],
   "source": [
    "student_name=\"${filename%%_*}\""
   ]
  },
  {
   "cell_type": "markdown",
   "id": "e7c93c50",
   "metadata": {},
   "source": [
    "\n",
    "\n",
    "This uses parameter expansion with `%%` which removes the **longest** matching pattern (`_*`) from the end:\n",
    "- `%%_*` means \"delete everything from the first underscore to the end\"\n",
    "- For `John_Doe_1234567_submission_2105221.zip`, this gives `John`\n",
    "\n",
    "## 3. Extract Student ID (two steps)\n",
    "\n"
   ]
  },
  {
   "cell_type": "code",
   "execution_count": null,
   "id": "0e63a93a",
   "metadata": {
    "vscode": {
     "languageId": "bash"
    }
   },
   "outputs": [],
   "source": [
    "student_id=\"${filename##*_}\""
   ]
  },
  {
   "cell_type": "markdown",
   "id": "714d4c5d",
   "metadata": {},
   "source": [
    "First, we extract the last part after the final underscore:\n",
    "- `##*_` means \"delete everything from the beginning up to the last underscore\"\n",
    "- For `John_Doe_1234567_submission_2105221.zip`, this gives `2105221.zip`\n",
    "\n",
    "Then, we remove the file extension:\n"
   ]
  },
  {
   "cell_type": "code",
   "execution_count": null,
   "id": "e8f1e03f",
   "metadata": {
    "vscode": {
     "languageId": "bash"
    }
   },
   "outputs": [],
   "source": [
    "student_id=\"${student_id%.zip}\""
   ]
  },
  {
   "cell_type": "markdown",
   "id": "7dd117c0",
   "metadata": {},
   "source": [
    "- `%` is another parameter expansion that removes the **shortest** matching pattern from the end\n",
    "- `%.zip` means \"delete .zip from the end\"\n",
    "- `2105221.zip` becomes `2105221`\n",
    "\n",
    "## Example\n",
    "\n",
    "For a zip file named `Carol_Danvers_1000001_submission_2105221.zip`:\n",
    "- `student_name` becomes `Carol` (everything before first underscore)\n",
    "- `student_id` becomes `2105221` (everything after last underscore, minus .zip)\n",
    "\n",
    "This parsing assumes a consistent naming pattern in the zip files."
   ]
  },
  {
   "cell_type": "markdown",
   "id": "4e28bd87",
   "metadata": {},
   "source": [
    "# Finding Code Files with the `find` Command\n",
    "\n",
    "This code snippet searches for programming source files within a temporary directory where a student's submission ZIP file has been extracted. Let me break it down:\n",
    "\n"
   ]
  },
  {
   "cell_type": "code",
   "execution_count": null,
   "id": "84e6c397",
   "metadata": {
    "vscode": {
     "languageId": "bash"
    }
   },
   "outputs": [],
   "source": [
    "codefile=$(find \"$tmpdir\" -type f \\\n",
    "    \\( -iname '*.c' -o -iname '*.cpp' -o -iname '*.java' -o -iname '*.py' \\) \\\n",
    "    | sort | head -n1)"
   ]
  },
  {
   "cell_type": "markdown",
   "id": "89b860f8",
   "metadata": {},
   "source": [
    "\n",
    "\n",
    "## Command Components\n",
    "\n",
    "1. **Starting the search**: `find \"$tmpdir\" -type f`\n",
    "   - Begins searching in the temporary directory (`$tmpdir`)\n",
    "   - `-type f` restricts the search to files only (excluding directories, symlinks, etc.)\n",
    "\n",
    "2. **File type filter**: `\\( -iname '*.c' -o -iname '*.cpp' -o -iname '*.java' -o -iname '*.py' \\)`\n",
    "   - The `\\(` and `\\)` are escaped parentheses to group the conditions\n",
    "   - `-iname` performs case-insensitive filename matching\n",
    "   - `-o` represents the logical OR operator\n",
    "   - This searches for files with extensions:\n",
    "     - `.c` (C source files)\n",
    "     - `.cpp` (C++ source files)\n",
    "     - `.java` (Java source files)\n",
    "     - `.py` (Python source files)\n",
    "   \n",
    "3. **Processing the results**: `| sort | head -n1`\n",
    "   - `sort` arranges the found files in alphabetical order\n",
    "   - `head -n1` selects only the first file from the sorted list\n",
    "\n",
    "4. **Variable assignment**: The entire output is captured in the `codefile` variable\n",
    "\n",
    "## Purpose in the Script\n",
    "\n",
    "This command ensures the script:\n",
    "1. Recursively searches through all subdirectories in the extracted submission\n",
    "2. Finds all programming source files in common languages\n",
    "3. Selects exactly one file (the alphabetically first one) for further processing\n",
    "4. Handles different programming languages uniformly\n",
    "\n",
    "If no matching file is found, the `codefile` variable will be empty, which the script checks for later with `if [ -z \"$codefile\" ]`."
   ]
  }
 ],
 "metadata": {
  "language_info": {
   "name": "python"
  }
 },
 "nbformat": 4,
 "nbformat_minor": 5
}
